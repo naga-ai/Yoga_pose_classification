{
 "cells": [
  {
   "cell_type": "code",
   "execution_count": 89,
   "id": "f6e2275a",
   "metadata": {},
   "outputs": [],
   "source": [
    "import tensorflow as tf\n",
    "from IPython.display import Image, display\n",
    "import matplotlib.pyplot as plt\n",
    "#import tensorflow_hub as hub\n",
    "import numpy as np\n",
    "from PIL import Image\n",
    "from IPython.display import  display\n",
    "import PIL.Image\n",
    "import numpy as np\n",
    "from skimage import transform\n",
    "import warnings\n",
    "warnings.filterwarnings('ignore')"
   ]
  },
  {
   "cell_type": "code",
   "execution_count": 4,
   "id": "0803515e",
   "metadata": {},
   "outputs": [],
   "source": [
    "model_loaded = tf.keras.models.load_model('./models/')"
   ]
  },
  {
   "cell_type": "code",
   "execution_count": 5,
   "id": "f68d9769",
   "metadata": {
    "collapsed": true
   },
   "outputs": [
    {
     "name": "stdout",
     "output_type": "stream",
     "text": [
      "Model: \"sequential\"\n",
      "_________________________________________________________________\n",
      " Layer (type)                Output Shape              Param #   \n",
      "=================================================================\n",
      " rescaling (Rescaling)       (None, 224, 224, 3)       0         \n",
      "                                                                 \n",
      " keras_layer (KerasLayer)    (None, 1280)              2257984   \n",
      "                                                                 \n",
      " dropout (Dropout)           (None, 1280)              0         \n",
      "                                                                 \n",
      " dense (Dense)               (None, 43)                55083     \n",
      "                                                                 \n",
      "=================================================================\n",
      "Total params: 2,313,067\n",
      "Trainable params: 55,083\n",
      "Non-trainable params: 2,257,984\n",
      "_________________________________________________________________\n"
     ]
    }
   ],
   "source": [
    "model_loaded.summary()"
   ]
  },
  {
   "cell_type": "code",
   "execution_count": 91,
   "id": "a39b4a71",
   "metadata": {},
   "outputs": [],
   "source": [
    "classes = ['Adho_Mukha_Svanasana', 'Anjaneyasana', 'Baddha_Konasana', 'Garudasana', 'Malasana', 'Navasana', 'Padmasana', 'Pincha_Mayurasana', 'Salamba_Bhujangasana', 'Setu_Bandha_Sarvangasana', 'Ustrasana', 'Utkatasana', 'Vrksasana']\n",
    "\n",
    "def classify(filename):\n",
    "   np_image = Image.open(filename)\n",
    "   np_image = np.array(np_image).astype('float32')\n",
    "   np_image = transform.resize(np_image, (224, 224, 3))\n",
    "   np_image = np.expand_dims(np_image, axis=0)\n",
    "   \n",
    "   pred_label=model_loaded.predict(np_image)\n",
    "   pred_class = classes[np.argmax(pred_label)]\n",
    "   print(pred_class)\n",
    "   return pred_class"
   ]
  },
  {
   "cell_type": "code",
   "execution_count": 95,
   "id": "113ff844",
   "metadata": {},
   "outputs": [
    {
     "name": "stdout",
     "output_type": "stream",
     "text": [
      "1/1 [==============================] - 0s 37ms/step\n",
      "Anjaneyasana\n"
     ]
    },
    {
     "data": {
      "text/plain": [
       "'Anjaneyasana'"
      ]
     },
     "execution_count": 95,
     "metadata": {},
     "output_type": "execute_result"
    }
   ],
   "source": [
    "classify('C:\\DATA_SCIENTIST\\img_vid\\yoga\\Anjaneyasana\\File20.png')"
   ]
  },
  {
   "cell_type": "code",
   "execution_count": 96,
   "id": "5537acb6",
   "metadata": {},
   "outputs": [
    {
     "name": "stdout",
     "output_type": "stream",
     "text": [
      "1/1 [==============================] - 0s 40ms/step\n",
      "Anjaneyasana\n"
     ]
    },
    {
     "data": {
      "text/plain": [
       "'Anjaneyasana'"
      ]
     },
     "execution_count": 96,
     "metadata": {},
     "output_type": "execute_result"
    }
   ],
   "source": [
    "classify('C:\\DATA_SCIENTIST\\img_vid\\yoga\\Anjaneyasana\\File67.jpeg')"
   ]
  },
  {
   "cell_type": "code",
   "execution_count": 97,
   "id": "46ddd217",
   "metadata": {},
   "outputs": [
    {
     "name": "stdout",
     "output_type": "stream",
     "text": [
      "1/1 [==============================] - 0s 41ms/step\n",
      "Utkatasana\n"
     ]
    },
    {
     "data": {
      "text/plain": [
       "'Utkatasana'"
      ]
     },
     "execution_count": 97,
     "metadata": {},
     "output_type": "execute_result"
    }
   ],
   "source": [
    "classify(r'C:\\DATA_SCIENTIST\\img_vid\\yoga\\Utkatasana\\File74.jpeg')"
   ]
  },
  {
   "cell_type": "code",
   "execution_count": 98,
   "id": "8a2c4819",
   "metadata": {},
   "outputs": [
    {
     "ename": "TypeError",
     "evalue": "'module' object is not callable",
     "output_type": "error",
     "traceback": [
      "\u001b[1;31m---------------------------------------------------------------------------\u001b[0m",
      "\u001b[1;31mTypeError\u001b[0m                                 Traceback (most recent call last)",
      "Input \u001b[1;32mIn [98]\u001b[0m, in \u001b[0;36m<cell line: 1>\u001b[1;34m()\u001b[0m\n\u001b[1;32m----> 1\u001b[0m display(\u001b[43mImage\u001b[49m\u001b[43m(\u001b[49m\u001b[38;5;124;43mr\u001b[39;49m\u001b[38;5;124;43m'\u001b[39;49m\u001b[38;5;124;43mC:\u001b[39;49m\u001b[38;5;124;43m\\\u001b[39;49m\u001b[38;5;124;43mDATA_SCIENTIST\u001b[39;49m\u001b[38;5;124;43m\\\u001b[39;49m\u001b[38;5;124;43mimg_vid\u001b[39;49m\u001b[38;5;124;43m\\\u001b[39;49m\u001b[38;5;124;43myoga\u001b[39;49m\u001b[38;5;124;43m\\\u001b[39;49m\u001b[38;5;124;43mVasisthasana\u001b[39;49m\u001b[38;5;124;43m\\\u001b[39;49m\u001b[38;5;124;43mFile20.png\u001b[39;49m\u001b[38;5;124;43m'\u001b[39;49m\u001b[43m)\u001b[49m)\n",
      "\u001b[1;31mTypeError\u001b[0m: 'module' object is not callable"
     ]
    }
   ],
   "source": [
    "\n",
    "display(Image(r'C:\\DATA_SCIENTIST\\img_vid\\yoga\\Vasisthasana\\File20.png'))"
   ]
  },
  {
   "cell_type": "code",
   "execution_count": 102,
   "id": "7c450448",
   "metadata": {},
   "outputs": [
    {
     "name": "stdout",
     "output_type": "stream",
     "text": [
      "1/1 [==============================] - 0s 34ms/step\n",
      "Navasana\n"
     ]
    },
    {
     "data": {
      "text/plain": [
       "'Navasana'"
      ]
     },
     "execution_count": 102,
     "metadata": {},
     "output_type": "execute_result"
    }
   ],
   "source": [
    "classify(r'C:\\DATA_SCIENTIST\\img_vid\\yoga\\Navasana\\File3.jpeg')"
   ]
  },
  {
   "cell_type": "code",
   "execution_count": 105,
   "id": "43b1c749",
   "metadata": {},
   "outputs": [
    {
     "name": "stdout",
     "output_type": "stream",
     "text": [
      "1/1 [==============================] - 0s 35ms/step\n",
      "Pincha_Mayurasana\n"
     ]
    },
    {
     "data": {
      "text/plain": [
       "'Pincha_Mayurasana'"
      ]
     },
     "execution_count": 105,
     "metadata": {},
     "output_type": "execute_result"
    }
   ],
   "source": [
    "classify(r'C:\\DATA_SCIENTIST\\img_vid\\yoga\\Pincha_Mayurasana\\File2.png')"
   ]
  },
  {
   "cell_type": "code",
   "execution_count": null,
   "id": "07bfc5ea",
   "metadata": {},
   "outputs": [],
   "source": []
  },
  {
   "cell_type": "code",
   "execution_count": null,
   "id": "5cafe8e9",
   "metadata": {},
   "outputs": [],
   "source": []
  }
 ],
 "metadata": {
  "kernelspec": {
   "display_name": "Python 3 (ipykernel)",
   "language": "python",
   "name": "python3"
  },
  "language_info": {
   "codemirror_mode": {
    "name": "ipython",
    "version": 3
   },
   "file_extension": ".py",
   "mimetype": "text/x-python",
   "name": "python",
   "nbconvert_exporter": "python",
   "pygments_lexer": "ipython3",
   "version": "3.9.12"
  }
 },
 "nbformat": 4,
 "nbformat_minor": 5
}
